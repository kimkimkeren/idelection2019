{
 "cells": [
  {
   "cell_type": "markdown",
   "metadata": {},
   "source": [
    "# Pendahuluan\n",
    "\n",
    "Ini adalah *notebook* yang digunakan untuk memeriksa validitas dari hasil tabulasi yang sudah didapatkan dari *crawling* TPS. Hal-hal yang diperiksa adalah sebagai berikut :\n",
    "- Jumlah pengguna hak suara dengan total suara\n",
    "- Jumlah suara sah dan tidak sah dengan total suara\n",
    "- Pemilih 01 dan 02 dengan suara sah\n",
    "- Link C1 tidak valid"
   ]
  },
  {
   "cell_type": "code",
   "execution_count": 1,
   "metadata": {},
   "outputs": [],
   "source": [
    "import pandas as pd"
   ]
  },
  {
   "cell_type": "markdown",
   "metadata": {},
   "source": [
    "# Jumlah TPS yang sudah didapatkan dan hasil sementara"
   ]
  },
  {
   "cell_type": "code",
   "execution_count": 115,
   "metadata": {},
   "outputs": [
    {
     "name": "stdout",
     "output_type": "stream",
     "text": [
      "724384 TPS\n",
      "01 : 76048200 suara\n",
      "02 : 60526743 suara\n",
      "Selisih : 15521457 suara\n"
     ]
    }
   ],
   "source": [
    "recap = pd.read_csv('../recap-tps-20190519122932.csv')\n",
    "print(str(len(recap)) + \" TPS\")\n",
    "print(\"01 : \" + str(sum(recap['pemilih jokowi'])) + \" suara\")\n",
    "print(\"02 : \" + str(sum(recap['pemilih prabowo'])) + \" suara\")\n",
    "print(\"Selisih : \" + str(abs(sum(recap['pemilih jokowi'] - recap['pemilih prabowo']))) + \" suara\")"
   ]
  },
  {
   "cell_type": "markdown",
   "metadata": {},
   "source": [
    "# Jumlah pengguna != Total suara"
   ]
  },
  {
   "cell_type": "code",
   "execution_count": 116,
   "metadata": {},
   "outputs": [
    {
     "name": "stdout",
     "output_type": "stream",
     "text": [
      "31574 TPS\n",
      "01 : 3137202 suara\n",
      "02 : 3002747 suara\n",
      "Selisih : 134455 suara\n"
     ]
    }
   ],
   "source": [
    "result1 = recap[recap['jumlah pengguna'] != recap['total suara']]\n",
    "print(str(len(result1)) + \" TPS\")\n",
    "print(\"01 : \" + str(sum(result1['pemilih jokowi'])) + \" suara\")\n",
    "print(\"02 : \" + str(sum(result1['pemilih prabowo'])) + \" suara\")\n",
    "print(\"Selisih : \" + str(abs(sum(result1['pemilih jokowi'] - result1['pemilih prabowo']))) + \" suara\")"
   ]
  },
  {
   "cell_type": "markdown",
   "metadata": {},
   "source": [
    "# Jumlah suara sah + Jumlah suara tidak sah != Total suara"
   ]
  },
  {
   "cell_type": "code",
   "execution_count": 117,
   "metadata": {},
   "outputs": [
    {
     "name": "stdout",
     "output_type": "stream",
     "text": [
      "9387 TPS\n",
      "01 : 940043 suara\n",
      "02 : 837388 suara\n",
      "Selisih : 102655 suara\n"
     ]
    }
   ],
   "source": [
    "result2 = recap[recap['jumlah suara sah'] + recap['jumlah suara tidak sah'] != recap['total suara']]\n",
    "print(str(len(result2)) + \" TPS\")\n",
    "print(\"01 : \" + str(sum(result2['pemilih jokowi'])) + \" suara\")\n",
    "print(\"02 : \" + str(sum(result2['pemilih prabowo'])) + \" suara\")\n",
    "print(\"Selisih : \" + str(abs(sum(result2['pemilih jokowi'] - result2['pemilih prabowo']))) + \" suara\")"
   ]
  },
  {
   "cell_type": "markdown",
   "metadata": {},
   "source": [
    "# Pemilih jokowi + Pemilih prabowo != Jumlah suara sah"
   ]
  },
  {
   "cell_type": "code",
   "execution_count": 118,
   "metadata": {},
   "outputs": [
    {
     "name": "stdout",
     "output_type": "stream",
     "text": [
      "12582 TPS\n",
      "01 : 1252599 suara\n",
      "02 : 1265405 suara\n",
      "Selisih : 12806 suara\n"
     ]
    }
   ],
   "source": [
    "result3 = recap[recap['pemilih jokowi'] + recap['pemilih prabowo'] != recap['jumlah suara sah']]\n",
    "print(str(len(result3)) + \" TPS\")\n",
    "print(\"01 : \" + str(sum(result3['pemilih jokowi'])) + \" suara\")\n",
    "print(\"02 : \" + str(sum(result3['pemilih prabowo'])) + \" suara\")\n",
    "print(\"Selisih : \" + str(abs(sum(result3['pemilih jokowi'] - result3['pemilih prabowo']))) + \" suara\")"
   ]
  },
  {
   "cell_type": "markdown",
   "metadata": {},
   "source": [
    "# Tidak ada link formulir C1"
   ]
  },
  {
   "cell_type": "code",
   "execution_count": 119,
   "metadata": {},
   "outputs": [
    {
     "name": "stdout",
     "output_type": "stream",
     "text": [
      "3317 TPS\n",
      "01 : 270411 suara\n",
      "02 : 356066 suara\n",
      "Selisih : 85655 suara\n",
      "\n",
      "3317 TPS\n",
      "01 : 270411 suara\n",
      "02 : 356066 suara\n",
      "Selisih : 85655 suara\n"
     ]
    }
   ],
   "source": [
    "result4 = recap[recap['link C1 halaman 1'].isnull()]\n",
    "print(str(len(result4)) + \" TPS\")\n",
    "print(\"01 : \" + str(sum(result4['pemilih jokowi'])) + \" suara\")\n",
    "print(\"02 : \" + str(sum(result4['pemilih prabowo'])) + \" suara\")\n",
    "print(\"Selisih : \" + str(abs(sum(result4['pemilih jokowi'] - result4['pemilih prabowo']))) + \" suara\")\n",
    "print(\"\")\n",
    "result5 = recap[recap['link C1 halaman 2'].isnull()]\n",
    "print(str(len(result5)) + \" TPS\")\n",
    "print(\"01 : \" + str(sum(result5['pemilih jokowi'])) + \" suara\")\n",
    "print(\"02 : \" + str(sum(result5['pemilih prabowo'])) + \" suara\")\n",
    "print(\"Selisih : \" + str(abs(sum(result5['pemilih jokowi'] - result5['pemilih prabowo']))) + \" suara\")"
   ]
  },
  {
   "cell_type": "markdown",
   "metadata": {},
   "source": [
    "# Hasil jika semua TPS di atas tidak dihitung"
   ]
  },
  {
   "cell_type": "code",
   "execution_count": 120,
   "metadata": {},
   "outputs": [
    {
     "name": "stdout",
     "output_type": "stream",
     "text": [
      "678667 TPS\n",
      "01 : 71550450 suara\n",
      "02 : 56190108 suara\n",
      "Selisih : 15360342 suara\n"
     ]
    }
   ],
   "source": [
    "recap = recap[recap['jumlah pengguna'] == recap['total suara']]\n",
    "recap = recap[~recap['link C1 halaman 1'].isnull()]\n",
    "recap = recap[recap['jumlah suara sah'] + recap['jumlah suara tidak sah'] == recap['total suara']]\n",
    "recap = recap[recap['pemilih jokowi'] + recap['pemilih prabowo'] == recap['jumlah suara sah']]\n",
    "print(str(len(recap)) + \" TPS\")\n",
    "print(\"01 : \" + str(sum(recap['pemilih jokowi'])) + \" suara\")\n",
    "print(\"02 : \" + str(sum(recap['pemilih prabowo'])) + \" suara\")\n",
    "print(\"Selisih : \" + str(abs(sum(recap['pemilih jokowi'] - recap['pemilih prabowo']))) + \" suara\")"
   ]
  },
  {
   "cell_type": "code",
   "execution_count": null,
   "metadata": {},
   "outputs": [],
   "source": []
  }
 ],
 "metadata": {
  "kernelspec": {
   "display_name": "Python 3",
   "language": "python",
   "name": "python3"
  },
  "language_info": {
   "codemirror_mode": {
    "name": "ipython",
    "version": 3
   },
   "file_extension": ".py",
   "mimetype": "text/x-python",
   "name": "python",
   "nbconvert_exporter": "python",
   "pygments_lexer": "ipython3",
   "version": "3.7.3"
  }
 },
 "nbformat": 4,
 "nbformat_minor": 2
}
