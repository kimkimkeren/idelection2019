{
 "cells": [
  {
   "cell_type": "markdown",
   "metadata": {},
   "source": [
    "# Pendahuluan\n",
    "\n",
    "Ini adalah *notebook* yang digunakan untuk memeriksa validitas dari hasil tabulasi yang sudah didapatkan dari *crawling* TPS. Hal-hal yang diperiksa adalah sebagai berikut :\n",
    "- Jumlah pengguna hak suara dengan total suara\n",
    "- Jumlah suara sah dan tidak sah dengan total suara\n",
    "- Pemilih 01 dan 02 dengan suara sah\n",
    "- Link C1 tidak valid"
   ]
  },
  {
   "cell_type": "code",
   "execution_count": 1,
   "metadata": {},
   "outputs": [],
   "source": [
    "import pandas as pd"
   ]
  },
  {
   "cell_type": "markdown",
   "metadata": {},
   "source": [
    "# Jumlah TPS yang sudah didapatkan dan hasil sementara"
   ]
  },
  {
   "cell_type": "code",
   "execution_count": 2,
   "metadata": {},
   "outputs": [
    {
     "name": "stdout",
     "output_type": "stream",
     "text": [
      "767096 TPS\n",
      "01 : 80162564 suara\n",
      "02 : 64867850 suara\n",
      "Selisih : 15294714 suara\n"
     ]
    }
   ],
   "source": [
    "recap = pd.read_csv('../recap-tps-20190525123714.csv')\n",
    "print(str(len(recap)) + \" TPS\")\n",
    "print(\"01 : \" + str(sum(recap['pemilih jokowi'])) + \" suara\")\n",
    "print(\"02 : \" + str(sum(recap['pemilih prabowo'])) + \" suara\")\n",
    "print(\"Selisih : \" + str(abs(sum(recap['pemilih jokowi'] - recap['pemilih prabowo']))) + \" suara\")"
   ]
  },
  {
   "cell_type": "markdown",
   "metadata": {},
   "source": [
    "# Jumlah pengguna != Total suara"
   ]
  },
  {
   "cell_type": "code",
   "execution_count": 3,
   "metadata": {},
   "outputs": [
    {
     "name": "stdout",
     "output_type": "stream",
     "text": [
      "35204 TPS\n",
      "01 : 3446660 suara\n",
      "02 : 3401208 suara\n",
      "Selisih : 45452 suara\n"
     ]
    }
   ],
   "source": [
    "result1 = recap[recap['jumlah pengguna'] != recap['total suara']]\n",
    "print(str(len(result1)) + \" TPS\")\n",
    "print(\"01 : \" + str(sum(result1['pemilih jokowi'])) + \" suara\")\n",
    "print(\"02 : \" + str(sum(result1['pemilih prabowo'])) + \" suara\")\n",
    "print(\"Selisih : \" + str(abs(sum(result1['pemilih jokowi'] - result1['pemilih prabowo']))) + \" suara\")"
   ]
  },
  {
   "cell_type": "markdown",
   "metadata": {},
   "source": [
    "# Jumlah suara sah + Jumlah suara tidak sah != Total suara"
   ]
  },
  {
   "cell_type": "code",
   "execution_count": 4,
   "metadata": {},
   "outputs": [
    {
     "name": "stdout",
     "output_type": "stream",
     "text": [
      "10260 TPS\n",
      "01 : 1012999 suara\n",
      "02 : 932022 suara\n",
      "Selisih : 80977 suara\n"
     ]
    }
   ],
   "source": [
    "result2 = recap[recap['jumlah suara sah'] + recap['jumlah suara tidak sah'] != recap['total suara']]\n",
    "print(str(len(result2)) + \" TPS\")\n",
    "print(\"01 : \" + str(sum(result2['pemilih jokowi'])) + \" suara\")\n",
    "print(\"02 : \" + str(sum(result2['pemilih prabowo'])) + \" suara\")\n",
    "print(\"Selisih : \" + str(abs(sum(result2['pemilih jokowi'] - result2['pemilih prabowo']))) + \" suara\")"
   ]
  },
  {
   "cell_type": "markdown",
   "metadata": {},
   "source": [
    "# Pemilih jokowi + Pemilih prabowo != Jumlah suara sah"
   ]
  },
  {
   "cell_type": "code",
   "execution_count": 5,
   "metadata": {},
   "outputs": [
    {
     "name": "stdout",
     "output_type": "stream",
     "text": [
      "13713 TPS\n",
      "01 : 1344851 suara\n",
      "02 : 1385249 suara\n",
      "Selisih : 40398 suara\n"
     ]
    }
   ],
   "source": [
    "result3 = recap[recap['pemilih jokowi'] + recap['pemilih prabowo'] != recap['jumlah suara sah']]\n",
    "print(str(len(result3)) + \" TPS\")\n",
    "print(\"01 : \" + str(sum(result3['pemilih jokowi'])) + \" suara\")\n",
    "print(\"02 : \" + str(sum(result3['pemilih prabowo'])) + \" suara\")\n",
    "print(\"Selisih : \" + str(abs(sum(result3['pemilih jokowi'] - result3['pemilih prabowo']))) + \" suara\")"
   ]
  },
  {
   "cell_type": "markdown",
   "metadata": {},
   "source": [
    "# Tidak ada link formulir C1"
   ]
  },
  {
   "cell_type": "code",
   "execution_count": 6,
   "metadata": {},
   "outputs": [
    {
     "name": "stdout",
     "output_type": "stream",
     "text": [
      "3436 TPS\n",
      "01 : 279542 suara\n",
      "02 : 367503 suara\n",
      "Selisih : 87961 suara\n",
      "\n",
      "3436 TPS\n",
      "01 : 279542 suara\n",
      "02 : 367503 suara\n",
      "Selisih : 87961 suara\n"
     ]
    }
   ],
   "source": [
    "result4 = recap[recap['link C1 halaman 1'].isnull()]\n",
    "print(str(len(result4)) + \" TPS\")\n",
    "print(\"01 : \" + str(sum(result4['pemilih jokowi'])) + \" suara\")\n",
    "print(\"02 : \" + str(sum(result4['pemilih prabowo'])) + \" suara\")\n",
    "print(\"Selisih : \" + str(abs(sum(result4['pemilih jokowi'] - result4['pemilih prabowo']))) + \" suara\")\n",
    "print(\"\")\n",
    "result5 = recap[recap['link C1 halaman 2'].isnull()]\n",
    "print(str(len(result5)) + \" TPS\")\n",
    "print(\"01 : \" + str(sum(result5['pemilih jokowi'])) + \" suara\")\n",
    "print(\"02 : \" + str(sum(result5['pemilih prabowo'])) + \" suara\")\n",
    "print(\"Selisih : \" + str(abs(sum(result5['pemilih jokowi'] - result5['pemilih prabowo']))) + \" suara\")"
   ]
  },
  {
   "cell_type": "markdown",
   "metadata": {},
   "source": [
    "# Hasil jika semua TPS di atas tidak dihitung"
   ]
  },
  {
   "cell_type": "code",
   "execution_count": 7,
   "metadata": {},
   "outputs": [
    {
     "name": "stdout",
     "output_type": "stream",
     "text": [
      "716704 TPS\n",
      "01 : 75270793 suara\n",
      "02 : 60024063 suara\n",
      "Selisih : 15246730 suara\n"
     ]
    }
   ],
   "source": [
    "recap = recap[recap['jumlah pengguna'] == recap['total suara']]\n",
    "recap = recap[~recap['link C1 halaman 1'].isnull()]\n",
    "recap = recap[recap['jumlah suara sah'] + recap['jumlah suara tidak sah'] == recap['total suara']]\n",
    "recap = recap[recap['pemilih jokowi'] + recap['pemilih prabowo'] == recap['jumlah suara sah']]\n",
    "print(str(len(recap)) + \" TPS\")\n",
    "print(\"01 : \" + str(sum(recap['pemilih jokowi'])) + \" suara\")\n",
    "print(\"02 : \" + str(sum(recap['pemilih prabowo'])) + \" suara\")\n",
    "print(\"Selisih : \" + str(abs(sum(recap['pemilih jokowi'] - recap['pemilih prabowo']))) + \" suara\")"
   ]
  },
  {
   "cell_type": "code",
   "execution_count": 14,
   "metadata": {},
   "outputs": [
    {
     "data": {
      "text/plain": [
       "Index(['wilayah', 'kabupaten', 'kecamatan', 'kelurahan', 'tps', 'timestamp',\n",
       "       'jumlah pemilih', 'jumlah pengguna', 'pemilih jokowi',\n",
       "       'pemilih prabowo', 'jumlah suara sah', 'jumlah suara tidak sah',\n",
       "       'total suara', 'link C1 halaman 1', 'link C1 halaman 2'],\n",
       "      dtype='object')"
      ]
     },
     "execution_count": 14,
     "metadata": {},
     "output_type": "execute_result"
    }
   ],
   "source": [
    "recap.columns"
   ]
  },
  {
   "cell_type": "code",
   "execution_count": 15,
   "metadata": {},
   "outputs": [
    {
     "data": {
      "text/plain": [
       "0         0.864865\n",
       "1         0.783019\n",
       "2         0.918519\n",
       "3         0.684848\n",
       "4         0.781065\n",
       "5         0.824427\n",
       "6         0.700787\n",
       "7         0.932203\n",
       "8         0.761194\n",
       "9         0.788991\n",
       "10        0.878924\n",
       "11        0.712121\n",
       "12        0.980392\n",
       "13        0.911602\n",
       "14        0.866359\n",
       "15        0.787500\n",
       "16        0.964789\n",
       "17        0.873563\n",
       "18        0.830508\n",
       "19        0.900000\n",
       "20        0.902778\n",
       "21        0.810000\n",
       "22        0.848315\n",
       "23        0.906250\n",
       "24        0.908046\n",
       "25        0.924658\n",
       "26        0.830189\n",
       "27        0.873134\n",
       "28        0.981043\n",
       "29        0.949309\n",
       "            ...   \n",
       "767066    0.000000\n",
       "767067    0.000000\n",
       "767068    0.000000\n",
       "767069    0.000000\n",
       "767070    0.000000\n",
       "767071    0.000000\n",
       "767072    0.000000\n",
       "767073    0.000000\n",
       "767074    0.000000\n",
       "767075    0.000000\n",
       "767076    0.000000\n",
       "767077    0.000000\n",
       "767078    0.000000\n",
       "767079    0.000000\n",
       "767080    0.000000\n",
       "767081    0.000000\n",
       "767082    0.000000\n",
       "767083    0.000000\n",
       "767084    0.000000\n",
       "767085    0.000000\n",
       "767086    0.000000\n",
       "767087    0.000000\n",
       "767088    0.000000\n",
       "767089    0.000000\n",
       "767090    0.000000\n",
       "767091    0.000000\n",
       "767092    0.000000\n",
       "767093    0.000000\n",
       "767094    0.000000\n",
       "767095    0.000000\n",
       "Length: 716704, dtype: float64"
      ]
     },
     "execution_count": 15,
     "metadata": {},
     "output_type": "execute_result"
    }
   ],
   "source": [
    "recap['pemilih prabowo'] / recap['jumlah suara sah']"
   ]
  },
  {
   "cell_type": "code",
   "execution_count": null,
   "metadata": {},
   "outputs": [],
   "source": []
  }
 ],
 "metadata": {
  "kernelspec": {
   "display_name": "Python 3",
   "language": "python",
   "name": "python3"
  },
  "language_info": {
   "codemirror_mode": {
    "name": "ipython",
    "version": 3
   },
   "file_extension": ".py",
   "mimetype": "text/x-python",
   "name": "python",
   "nbconvert_exporter": "python",
   "pygments_lexer": "ipython3",
   "version": "3.7.3"
  }
 },
 "nbformat": 4,
 "nbformat_minor": 2
}
